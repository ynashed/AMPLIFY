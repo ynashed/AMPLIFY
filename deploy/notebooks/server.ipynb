{
 "cells": [
  {
   "cell_type": "code",
   "execution_count": 1,
   "id": "2cede9f0-70c7-45e3-9a3b-7c75f6a984e4",
   "metadata": {
    "tags": []
   },
   "outputs": [
    {
     "name": "stderr",
     "output_type": "stream",
     "text": [
      "/usr/local/lib/python3.10/dist-packages/tqdm/auto.py:21: TqdmWarning: IProgress not found. Please update jupyter and ipywidgets. See https://ipywidgets.readthedocs.io/en/stable/user_install.html\n",
      "  from .autonotebook import tqdm as notebook_tqdm\n"
     ]
    },
    {
     "name": "stdout",
     "output_type": "stream",
     "text": [
      "[2024-10-03 02:44:05,294] [INFO] [real_accelerator.py:203:get_accelerator] Setting ds_accelerator to cuda (auto detect)\n"
     ]
    },
    {
     "name": "stderr",
     "output_type": "stream",
     "text": [
      "/bin/ld: cannot find -laio: No such file or directory\n",
      "collect2: error: ld returned 1 exit status\n",
      "/bin/ld: cannot find -laio: No such file or directory\n",
      "collect2: error: ld returned 1 exit status\n"
     ]
    }
   ],
   "source": [
    "import amplify\n",
    "import os\n",
    "\n",
    "# load the model\n",
    "MODEL = \"AMPLIFY_350M\"\n",
    "path = f\"../../../data/models/AMPLIFY/{MODEL}/\"\n",
    "config_path = os.path.join(path, \"config.yaml\")\n",
    "checkpoint_file = os.path.join(path, \"pytorch_model.pt\")\n",
    "\n",
    "model, tokenizer = amplify.AMPLIFY.load(checkpoint_file, config_path)\n",
    "predictor = amplify.inference.Predictor(model, tokenizer, device=\"cuda\")\n",
    "\n",
    "# !python ../scripts/convert_checkpoint_to_nemo.py \\\n",
    "#         --input_name_or_path {checkpoint_file} \\\n",
    "#         --output_path . \\\n",
    "#         --config_name_or_path {config_path}\\\n",
    "#         --hparams_file ../conf/megatron_amplify_config.yaml"
   ]
  },
  {
   "cell_type": "code",
   "execution_count": 35,
   "id": "33c6fbca",
   "metadata": {},
   "outputs": [
    {
     "name": "stdout",
     "output_type": "stream",
     "text": [
      "I1003 03:00:17.204801 401706 pinned_memory_manager.cc:277] \"Pinned memory pool is created at '0x205000000' with size 268435456\"\n",
      "I1003 03:00:17.204953 401706 cuda_memory_manager.cc:107] \"CUDA memory pool is created on device 0 with size 67108864\"\n",
      "I1003 03:00:17.209178 401706 server.cc:604] \n",
      "+------------------+------+\n",
      "| Repository Agent | Path |\n",
      "+------------------+------+\n",
      "+------------------+------+\n",
      "\n",
      "I1003 03:00:17.209229 401706 server.cc:631] \n",
      "+---------+------+--------+\n",
      "| Backend | Path | Config |\n",
      "+---------+------+--------+\n",
      "+---------+------+--------+\n",
      "\n",
      "I1003 03:00:17.209243 401706 server.cc:674] \n",
      "+-------+---------+--------+\n",
      "| Model | Version | Status |\n",
      "+-------+---------+--------+\n",
      "+-------+---------+--------+\n",
      "\n",
      "I1003 03:00:17.243143 401706 metrics.cc:877] \"Collecting metrics for GPU 0: NVIDIA RTX 1000 Ada Generation Laptop GPU\"\n",
      "I1003 03:00:17.249444 401706 metrics.cc:770] \"Collecting CPU metrics\"\n",
      "I1003 03:00:17.250181 401706 tritonserver.cc:2598] \n",
      "+----------------------------------+------------------------------------------+\n",
      "| Option                           | Value                                    |\n",
      "+----------------------------------+------------------------------------------+\n",
      "| server_id                        | triton                                   |\n",
      "| server_version                   | 2.48.0                                   |\n",
      "| server_extensions                | classification sequence model_repository |\n",
      "|                                  |  model_repository(unload_dependents) sch |\n",
      "|                                  | edule_policy model_configuration system_ |\n",
      "|                                  | shared_memory cuda_shared_memory binary_ |\n",
      "|                                  | tensor_data parameters statistics trace  |\n",
      "|                                  | logging                                  |\n",
      "| model_repository_path[0]         | /root/.cache/pytriton/workspace_n424ehky |\n",
      "|                                  | /model-store                             |\n",
      "| model_control_mode               | MODE_EXPLICIT                            |\n",
      "| startup_models_0                 | *                                        |\n",
      "| strict_model_config              | 0                                        |\n",
      "| model_config_name                |                                          |\n",
      "| rate_limit                       | OFF                                      |\n",
      "| pinned_memory_pool_byte_size     | 268435456                                |\n",
      "| cuda_memory_pool_byte_size{0}    | 67108864                                 |\n",
      "| min_supported_compute_capability | 6.0                                      |\n",
      "| strict_readiness                 | 1                                        |\n",
      "| exit_timeout                     | 30                                       |\n",
      "| cache_enabled                    | 0                                        |\n",
      "+----------------------------------+------------------------------------------+\n",
      "\n",
      "I1003 03:00:17.262257 401706 grpc_server.cc:2463] \"Started GRPCInferenceService at 0.0.0.0:8001\"\n",
      "I1003 03:00:17.262494 401706 http_server.cc:4692] \"Started HTTPService at 0.0.0.0:9999\"\n",
      "I1003 03:00:17.309733 401706 http_server.cc:362] \"Started Metrics Service at 0.0.0.0:8002\"\n",
      "I1003 03:00:18.062244 401706 model_lifecycle.cc:472] \"loading: AMPLIFY:1\"\n",
      "W1003 03:00:18.254000 401706 metrics.cc:631] \"Unable to get power limit for GPU 0. Status:Success, value:0.000000\"\n",
      "W1003 03:00:19.260547 401706 metrics.cc:631] \"Unable to get power limit for GPU 0. Status:Success, value:0.000000\"\n",
      "I1003 03:00:20.011776 401706 python_be.cc:1912] \"TRITONBACKEND_ModelInstanceInitialize: AMPLIFY_0_0 (CPU device 0)\"\n",
      "W1003 03:00:20.262725 401706 metrics.cc:631] \"Unable to get power limit for GPU 0. Status:Success, value:0.000000\"\n"
     ]
    },
    {
     "name": "stderr",
     "output_type": "stream",
     "text": [
      "2024-10-03 03:00:20,649 - INFO - pytriton.triton: Infer function available as model: `/v2/models/AMPLIFY`\n",
      "2024-10-03 03:00:20,650 - INFO - pytriton.triton:   Status:         `GET  /v2/models/AMPLIFY/ready/`\n",
      "2024-10-03 03:00:20,651 - INFO - pytriton.triton:   Model config:   `GET  /v2/models/AMPLIFY/config/`\n",
      "2024-10-03 03:00:20,652 - INFO - pytriton.triton:   Inference:      `POST /v2/models/AMPLIFY/infer/`\n",
      "2024-10-03 03:00:20,653 - INFO - pytriton.triton: Read more about configuring and serving models in documentation: https://triton-inference-server.github.io/pytriton.\n",
      "2024-10-03 03:00:20,654 - INFO - pytriton.triton: (Press CTRL+C or use the command `kill -SIGINT 387772` to send a SIGINT signal and quit)\n"
     ]
    },
    {
     "name": "stdout",
     "output_type": "stream",
     "text": [
      "I1003 03:00:20.633789 401706 model_lifecycle.cc:838] \"successfully loaded 'AMPLIFY'\"\n"
     ]
    }
   ],
   "source": [
    "import logging\n",
    "import numpy as np\n",
    "from typing import Dict, List\n",
    "from pytriton.decorators import batch\n",
    "from pytriton.model_config import ModelConfig, Tensor\n",
    "from pytriton.triton import Triton, TritonConfig\n",
    "from pytriton.proxy.types import Request\n",
    "\n",
    "class AMPLIFYWrapper:\n",
    "    def __init__(self, model: amplify.inference.Predictor, device: str):\n",
    "        self._model = model\n",
    "        self._device = device\n",
    "\n",
    "    # @batch\n",
    "    def infer_func(self, requests: List[Request]) -> List[Dict[str, np.ndarray]]:\n",
    "         # unpack the request (single prompt in single item requests list)\n",
    "        request = {key: value for key, value in requests[0].items()}\n",
    "        sequences = request[\"sequences\"]\n",
    "        embeddings = [predictor.embed(x.decode(\"utf-8\")) for x in sequences]\n",
    "        max_length = max(embedding.shape[0] for embedding in embeddings)\n",
    "        embeddings = [np.pad(embedding, \n",
    "                            ((0, max_length - embedding.shape[0]), (0, 0)), \n",
    "                            mode='constant', \n",
    "                            constant_values=0) \n",
    "                     for embedding in embeddings]\n",
    "        return [{'embeddings': np.array(embeddings, dtype=np.float32)}]\n",
    "    \n",
    "    @property\n",
    "    def inputs(self):\n",
    "        return [Tensor(name=\"sequences\", dtype=bytes, shape=(-1,)),]\n",
    "    \n",
    "    @property\n",
    "    def outputs(self):\n",
    "        return [Tensor(name=\"embeddings\", dtype=np.float32, shape=(-1,-1,960)),]\n",
    "\n",
    "logger = logging.getLogger(\"examples.identity_python.server\")\n",
    "logging.basicConfig(level=logging.INFO, format=\"%(asctime)s - %(levelname)s - %(name)s: %(message)s\")\n",
    "    \n",
    "amplify_deploy = AMPLIFYWrapper(predictor, \"cuda\")\n",
    "triton = Triton(config=TritonConfig(http_port=9999))\n",
    "triton.bind(model_name=\"AMPLIFY\",\n",
    "    infer_func=amplify_deploy.infer_func,\n",
    "    inputs=amplify_deploy.inputs,\n",
    "    outputs=amplify_deploy.outputs,\n",
    "    config=ModelConfig(batching=False, decoupled=False),\n",
    "    strict=True,)\n",
    "triton.run()"
   ]
  },
  {
   "cell_type": "code",
   "execution_count": 36,
   "id": "ceba3ae7",
   "metadata": {},
   "outputs": [
    {
     "name": "stdout",
     "output_type": "stream",
     "text": [
      "(3, 20, 960)\n"
     ]
    },
    {
     "data": {
      "text/plain": [
       "<matplotlib.colorbar.Colorbar at 0x7f75d22b7a60>"
      ]
     },
     "execution_count": 36,
     "metadata": {},
     "output_type": "execute_result"
    },
    {
     "data": {
      "image/png": "[encoded data removed]",
      "text/plain": [
       "<Figure size 1600x240 with 2 Axes>"
      ]
     },
     "metadata": {},
     "output_type": "display_data"
    }
   ],
   "source": [
    "import requests\n",
    "import json\n",
    "from matplotlib import pyplot as plt\n",
    "\n",
    "sequences = [\"AACGGEVWVTDEAAAAA\",\n",
    "             \"AAAAACGGGVWWTDEAAAAA\",\n",
    "             \"AAAADGGVWVTECDA\",]\n",
    "\n",
    "url = \"http://localhost:9999/v2/models/AMPLIFY/generate_stream\"\n",
    "headers = {\"Content-Type\": \"application/json\"}\n",
    "response = requests.post(url, headers=headers, data=json.dumps({\"sequences\": sequences}))\n",
    "if response.status_code == 200:\n",
    "    response_dict = json.loads(response.text.split(\"data:\")[1])\n",
    "    embeddings = np.array(response_dict[\"embeddings\"]).reshape(len(sequences), -1, 960)\n",
    "\n",
    "    print(embeddings.shape)\n",
    "    plt.matshow(embeddings[..., 0])\n",
    "    plt.colorbar()"
   ]
  },
  {
   "cell_type": "code",
   "execution_count": 34,
   "id": "82b1c09f",
   "metadata": {},
   "outputs": [
    {
     "name": "stderr",
     "output_type": "stream",
     "text": [
      "2024-10-03 03:00:15,078 - WARNING - pytriton.server.triton_server: Triton Inference Server exited with failure. Please wait.\n"
     ]
    },
    {
     "name": "stderr",
     "output_type": "stream",
     "text": [
      "2024-10-03 03:00:15,103 - INFO - pytriton.proxy.inference: Closing Inference Handler\n"
     ]
    },
    {
     "name": "stdout",
     "output_type": "stream",
     "text": [
      "I1003 03:00:15.183640 401025 pb_stub.cc:2049]  Non-graceful termination detected. \n",
      "/usr/lib/python3.10/multiprocessing/resource_tracker.py:224: UserWarning: resource_tracker: There appear to be 1 leaked shared_memory objects to clean up at shutdown\n",
      "  warnings.warn('resource_tracker: There appear to be %d '\n"
     ]
    },
    {
     "data": {
      "text/plain": [
       "True"
      ]
     },
     "execution_count": 34,
     "metadata": {},
     "output_type": "execute_result"
    }
   ],
   "source": [
    "triton.stop()"
   ]
  }
 ],
 "metadata": {
  "kernelspec": {
   "display_name": "Python 3 (ipykernel)",
   "language": "python",
   "name": "python3"
  },
  "language_info": {
   "codemirror_mode": {
    "name": "ipython",
    "version": 3
   },
   "file_extension": ".py",
   "mimetype": "text/x-python",
   "name": "python",
   "nbconvert_exporter": "python",
   "pygments_lexer": "ipython3",
   "version": "3.10.12"
  }
 },
 "nbformat": 4,
 "nbformat_minor": 5
}
